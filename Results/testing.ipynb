{
 "cells": [
  {
   "cell_type": "code",
   "execution_count": 1,
   "metadata": {},
   "outputs": [],
   "source": [
    "import os\n",
    "import json\n",
    "import numpy as np\n",
    "import matplotlib.pyplot as pl"
   ]
  },
  {
   "cell_type": "code",
   "execution_count": 2,
   "metadata": {},
   "outputs": [],
   "source": [
    "def load_json_files():\n",
    "\t# load all json files in directory and return as list of json objects\n",
    "\tjson_objects = []\n",
    "\tpath = 'experiment'\n",
    "\tfor f in os.listdir(path):\n",
    "\t\tjson_objects.append(json.load(open(path + '/' + f)))\n",
    "\treturn json_objects\n"
   ]
  },
  {
   "cell_type": "code",
   "execution_count": 3,
   "metadata": {},
   "outputs": [],
   "source": [
    "def filter_illusion(json_objects, illusion_name = 'Popple Illusion'):\n",
    "\t# filter by illusion name, and sort by variation\n",
    "\tresults = [[] for i in range(10)] # length = number of variations\n",
    "\tfor obj in json_objects:\n",
    "\t\tfor data_point in obj:\n",
    "\t\t\t#print(data_point['illusionName'])\n",
    "\t\t\tif data_point['illusionName'] == illusion_name:\n",
    "\t\t\t\tresults[data_point['variationID']].append(data_point)\n",
    "\treturn results"
   ]
  },
  {
   "cell_type": "code",
   "execution_count": 7,
   "metadata": {},
   "outputs": [],
   "source": [
    "def plot_results(results):\n",
    "\thist = False\n",
    "\tif hist:\n",
    "\t\tfor i in range(10):\n",
    "\t\t\tslider_vals = [data_point['distortion'] for data_point in results[i]]\n",
    "\t\t\tprint('variation {}: μ={:.2f}, σ={:.2f}'.format(i+1, np.mean(slider_vals), np.std(slider_vals)))\n",
    "\t\t\tpl.subplot(10,1,i+1)\n",
    "\t\t\tpl.hist(slider_vals, bins=np.linspace(0, 1, 200))\n",
    "\telse:\n",
    "\t\tnx = 200\n",
    "\t\txs = np.linspace(0, 1, nx)\n",
    "\t\tbins = 50\n",
    "\t\tgauss_width = 1 / 2*bins\n",
    "\t\tfor i in range(10):\n",
    "\t\t\tslider_vals = [data_point['distortion'] for data_point in results[i]]\n",
    "\t\t\tslider_vals_large = np.tile(np.matrix(slider_vals).T, (1, nx))\n",
    "\t\t\txs_large = np.tile(xs, (len(slider_vals), 1))\n",
    "\t\t\tgauss_pts = np.zeros((len(slider_vals), nx))\n",
    "\t\t\tgauss_pts = np.exp(-np.square(slider_vals_large - xs_large) / (2*gauss_width**2))\n",
    "\t\t\tgauss_plot = np.sum(np.array(gauss_pts), axis=0)\n",
    "\t\t\tprint('variation {}: μ={:.2f}, σ={:.2f}'.format(i+1, np.mean(slider_vals), np.std(slider_vals)))\n",
    "\t\t\tpl.subplot(10,1,i+1)\n",
    "\t\t\tpl.plot(xs, gauss_plot/sum(gauss_plot)*nx)\n",
    "\t\t\t# pl.subplot(10,1,i+1)\n",
    "\t\t\tpl.hist(slider_vals, bins=bins)\n",
    "\n",
    "\tpl.show()"
   ]
  },
  {
   "cell_type": "code",
   "execution_count": 167,
   "metadata": {},
   "outputs": [],
   "source": [
    "def plot_corr(results):\n",
    "    x = [40,40,72,72,56,56,88,88,104,104]\n",
    "    y_vals_tot =[];\n",
    "    for i in range(10):\n",
    "        y_vals = [data_point['inverted'] for data_point in results[i]]\n",
    "        y_vals_tot.append(y_vals)\n",
    "        print('variation {}: μ={:.2f}, σ={:.2f}'.format(i+1, np.mean(y_vals), np.std(y_vals)))\n",
    "        #pl.hist(y_vals, bins=np.linspace(0, 1, 200))\n",
    "    y_vals_new = [];\n",
    "    y_vals_new.append(np.concatenate((y_vals_tot[0],y_vals_tot[1]),axis=None));\n",
    "    y_vals_new.append(np.concatenate((y_vals_tot[4],y_vals_tot[5]),axis=None));\n",
    "    y_vals_new.append(np.concatenate((y_vals_tot[2],y_vals_tot[3]),axis=None));\n",
    "    y_vals_new.append(np.concatenate((y_vals_tot[6],y_vals_tot[7]),axis=None));\n",
    "    y_vals_new.append(np.concatenate((y_vals_tot[8],y_vals_tot[9]),axis=None));\n",
    "    for i in range(len(y_vals_new)):\n",
    "        print('variation {}: μ={:.2f}, σ={:.2f}'.format(i+1, np.mean(y_vals_new[i]), np.std(y_vals_new[i])))\n",
    "    x_pos = np.arange(len(y_vals_new))\n",
    "    fig, ax = pl.subplots();\n",
    "    ax.errorbar(x_pos, np.mean(y_vals_new,axis=1), yerr=np.std(y_vals_new,axis=1), fmt='.k', capsize=10)\n",
    "    ax.set_xticks(x_pos)\n",
    "    ax.set_xticklabels([40,56,72,88,104])\n",
    "    #pl.savefig('patch_num_to_rating.eps',format='eps', dpi=900)\n",
    "    pl.savefig('patch_num_to_rating.png',format='png', dpi=900)\n",
    "    pl.show()"
   ]
  },
  {
   "cell_type": "code",
   "execution_count": 168,
   "metadata": {},
   "outputs": [],
   "source": [
    "def main():\n",
    "    json_objects = load_json_files()\n",
    "    results = filter_illusion(json_objects)\n",
    "    #print(results)\n",
    "    plot_corr(results);\n",
    "    #plot_results(results)"
   ]
  },
  {
   "cell_type": "code",
   "execution_count": 169,
   "metadata": {},
   "outputs": [
    {
     "name": "stdout",
     "output_type": "stream",
     "text": [
      "variation 1: μ=4.76, σ=0.63\n",
      "variation 2: μ=4.43, σ=0.95\n",
      "variation 3: μ=4.81, σ=0.46\n",
      "variation 4: μ=4.68, σ=0.62\n",
      "variation 5: μ=4.68, σ=0.74\n",
      "variation 6: μ=4.76, σ=0.49\n",
      "variation 7: μ=4.70, σ=0.65\n",
      "variation 8: μ=4.65, σ=0.71\n",
      "variation 9: μ=4.73, σ=0.50\n",
      "variation 10: μ=4.70, σ=0.65\n",
      "[array([5, 5, 5, 5, 5, 5, 5, 5, 5, 5, 5, 5, 5, 4, 4, 5, 5, 5, 5, 5, 5, 5,\n",
      "       5, 5, 5, 3, 5, 5, 5, 5, 5, 5, 2, 5, 4, 5, 4, 5, 5, 4, 1, 5, 5, 5,\n",
      "       5, 5, 4, 5, 4, 5, 3, 4, 5, 5, 5, 5, 5, 4, 5, 5, 5, 4, 3, 3, 5, 5,\n",
      "       5, 5, 5, 2, 5, 5, 4, 4]), array([5, 5, 3, 5, 5, 5, 5, 5, 5, 4, 5, 5, 5, 5, 5, 5, 5, 5, 5, 5, 5, 3,\n",
      "       5, 5, 5, 3, 5, 5, 5, 5, 5, 5, 2, 5, 5, 4, 4, 5, 5, 4, 5, 5, 5, 5,\n",
      "       5, 5, 4, 5, 5, 5, 5, 3, 5, 5, 4, 5, 4, 5, 5, 5, 5, 5, 4, 5, 5, 5,\n",
      "       5, 5, 5, 4, 5, 5, 5, 4]), array([5, 5, 5, 5, 5, 5, 5, 5, 5, 4, 5, 5, 5, 5, 4, 5, 5, 5, 5, 5, 4, 5,\n",
      "       5, 5, 5, 3, 5, 5, 5, 5, 5, 5, 4, 5, 5, 5, 4, 5, 5, 3, 4, 5, 5, 5,\n",
      "       5, 4, 5, 5, 5, 5, 4, 4, 5, 5, 5, 5, 5, 5, 5, 5, 5, 5, 3, 5, 5, 5,\n",
      "       5, 5, 5, 3, 5, 5, 4, 4]), array([5, 5, 5, 5, 5, 5, 5, 5, 5, 5, 5, 5, 5, 4, 4, 5, 5, 5, 5, 5, 5, 5,\n",
      "       5, 5, 4, 2, 5, 5, 5, 5, 5, 5, 3, 5, 4, 4, 4, 5, 5, 3, 5, 5, 5, 5,\n",
      "       5, 5, 5, 5, 5, 5, 4, 4, 5, 5, 5, 5, 4, 4, 5, 5, 5, 5, 3, 5, 5, 5,\n",
      "       5, 5, 5, 2, 5, 5, 4, 4]), array([5, 5, 5, 5, 5, 5, 5, 5, 5, 5, 5, 5, 5, 4, 4, 5, 5, 5, 5, 4, 4, 5,\n",
      "       5, 5, 5, 4, 4, 5, 5, 5, 5, 5, 3, 5, 5, 4, 4, 5, 5, 5, 3, 5, 5, 5,\n",
      "       5, 5, 5, 5, 5, 5, 4, 4, 5, 5, 5, 5, 5, 4, 5, 5, 5, 5, 4, 5, 5, 5,\n",
      "       5, 5, 5, 2, 5, 5, 4, 4])]\n",
      "variation 1: μ=4.59, σ=0.82\n",
      "variation 2: μ=4.72, σ=0.63\n",
      "variation 3: μ=4.74, σ=0.55\n",
      "variation 4: μ=4.68, σ=0.68\n",
      "variation 5: μ=4.72, σ=0.58\n",
      "[4.59459459 4.71621622 4.74324324 4.67567568 4.71621622]\n"
     ]
    },
    {
     "data": {
      "image/png": "[encoded data removed]",
      "text/plain": [
       "<Figure size 432x288 with 1 Axes>"
      ]
     },
     "metadata": {},
     "output_type": "display_data"
    }
   ],
   "source": [
    "main()"
   ]
  },
  {
   "cell_type": "code",
   "execution_count": 16,
   "metadata": {},
   "outputs": [],
   "source": [
    "color = [4,3,2,1]"
   ]
  },
  {
   "cell_type": "code",
   "execution_count": 132,
   "metadata": {},
   "outputs": [
    {
     "data": {
      "text/plain": [
       "array([4.  , 4.25, 4.5 , 4.75, 5.  ])"
      ]
     },
     "execution_count": 132,
     "metadata": {},
     "output_type": "execute_result"
    }
   ],
   "source": [
    "np.linspace(4,5,5)"
   ]
  },
  {
   "cell_type": "code",
   "execution_count": 44,
   "metadata": {},
   "outputs": [],
   "source": [
    "test.append(54)"
   ]
  },
  {
   "cell_type": "code",
   "execution_count": 45,
   "metadata": {},
   "outputs": [
    {
     "data": {
      "text/plain": [
       "[54, 54, 54]"
      ]
     },
     "execution_count": 45,
     "metadata": {},
     "output_type": "execute_result"
    }
   ],
   "source": [
    "test"
   ]
  },
  {
   "cell_type": "code",
   "execution_count": 46,
   "metadata": {},
   "outputs": [],
   "source": [
    "color = np.array(color)"
   ]
  },
  {
   "cell_type": "code",
   "execution_count": 47,
   "metadata": {},
   "outputs": [
    {
     "data": {
      "text/plain": [
       "array([False,  True, False, False])"
      ]
     },
     "execution_count": 47,
     "metadata": {},
     "output_type": "execute_result"
    }
   ],
   "source": [
    "color == 3"
   ]
  },
  {
   "cell_type": "code",
   "execution_count": 49,
   "metadata": {},
   "outputs": [
    {
     "data": {
      "text/plain": [
       "array([3])"
      ]
     },
     "execution_count": 49,
     "metadata": {},
     "output_type": "execute_result"
    }
   ],
   "source": [
    "color[color ==3]"
   ]
  },
  {
   "cell_type": "code",
   "execution_count": null,
   "metadata": {},
   "outputs": [],
   "source": []
  }
 ],
 "metadata": {
  "kernelspec": {
   "display_name": "Python 3",
   "language": "python",
   "name": "python3"
  },
  "language_info": {
   "codemirror_mode": {
    "name": "ipython",
    "version": 3
   },
   "file_extension": ".py",
   "mimetype": "text/x-python",
   "name": "python",
   "nbconvert_exporter": "python",
   "pygments_lexer": "ipython3",
   "version": "3.7.1"
  }
 },
 "nbformat": 4,
 "nbformat_minor": 2
}
